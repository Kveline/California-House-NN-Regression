{
  "nbformat": 4,
  "nbformat_minor": 0,
  "metadata": {
    "colab": {
      "provenance": []
    },
    "kernelspec": {
      "name": "python3",
      "display_name": "Python 3"
    },
    "language_info": {
      "name": "python"
    }
  },
  "cells": [
    {
      "cell_type": "markdown",
      "source": [
        "## Preprocessing data"
      ],
      "metadata": {
        "id": "FvvIDzzvYkav"
      }
    },
    {
      "cell_type": "code",
      "source": [
        "import pandas as pd\n",
        "import matplotlib.pyplot as plt\n",
        "import tensorflow as tf\n",
        "\n",
        "# read data fram\n",
        "data = pd.read_csv(\"https://raw.githubusercontent.com/ageron/handson-ml/master/datasets/housing/housing.csv\")\n",
        "data.head()"
      ],
      "metadata": {
        "colab": {
          "base_uri": "https://localhost:8080/",
          "height": 250
        },
        "id": "IU3-hxM8YhF7",
        "outputId": "a92d0430-97c7-4a5b-e015-178c36ec1c71"
      },
      "execution_count": 2,
      "outputs": [
        {
          "output_type": "execute_result",
          "data": {
            "text/plain": [
              "   longitude  latitude  housing_median_age  total_rooms  total_bedrooms  \\\n",
              "0    -122.23     37.88                41.0        880.0           129.0   \n",
              "1    -122.22     37.86                21.0       7099.0          1106.0   \n",
              "2    -122.24     37.85                52.0       1467.0           190.0   \n",
              "3    -122.25     37.85                52.0       1274.0           235.0   \n",
              "4    -122.25     37.85                52.0       1627.0           280.0   \n",
              "\n",
              "   population  households  median_income  median_house_value ocean_proximity  \n",
              "0       322.0       126.0         8.3252            452600.0        NEAR BAY  \n",
              "1      2401.0      1138.0         8.3014            358500.0        NEAR BAY  \n",
              "2       496.0       177.0         7.2574            352100.0        NEAR BAY  \n",
              "3       558.0       219.0         5.6431            341300.0        NEAR BAY  \n",
              "4       565.0       259.0         3.8462            342200.0        NEAR BAY  "
            ],
            "text/html": [
              "\n",
              "  <div id=\"df-c77e6808-0e52-40a7-ad9c-ef12e869b4d7\">\n",
              "    <div class=\"colab-df-container\">\n",
              "      <div>\n",
              "<style scoped>\n",
              "    .dataframe tbody tr th:only-of-type {\n",
              "        vertical-align: middle;\n",
              "    }\n",
              "\n",
              "    .dataframe tbody tr th {\n",
              "        vertical-align: top;\n",
              "    }\n",
              "\n",
              "    .dataframe thead th {\n",
              "        text-align: right;\n",
              "    }\n",
              "</style>\n",
              "<table border=\"1\" class=\"dataframe\">\n",
              "  <thead>\n",
              "    <tr style=\"text-align: right;\">\n",
              "      <th></th>\n",
              "      <th>longitude</th>\n",
              "      <th>latitude</th>\n",
              "      <th>housing_median_age</th>\n",
              "      <th>total_rooms</th>\n",
              "      <th>total_bedrooms</th>\n",
              "      <th>population</th>\n",
              "      <th>households</th>\n",
              "      <th>median_income</th>\n",
              "      <th>median_house_value</th>\n",
              "      <th>ocean_proximity</th>\n",
              "    </tr>\n",
              "  </thead>\n",
              "  <tbody>\n",
              "    <tr>\n",
              "      <th>0</th>\n",
              "      <td>-122.23</td>\n",
              "      <td>37.88</td>\n",
              "      <td>41.0</td>\n",
              "      <td>880.0</td>\n",
              "      <td>129.0</td>\n",
              "      <td>322.0</td>\n",
              "      <td>126.0</td>\n",
              "      <td>8.3252</td>\n",
              "      <td>452600.0</td>\n",
              "      <td>NEAR BAY</td>\n",
              "    </tr>\n",
              "    <tr>\n",
              "      <th>1</th>\n",
              "      <td>-122.22</td>\n",
              "      <td>37.86</td>\n",
              "      <td>21.0</td>\n",
              "      <td>7099.0</td>\n",
              "      <td>1106.0</td>\n",
              "      <td>2401.0</td>\n",
              "      <td>1138.0</td>\n",
              "      <td>8.3014</td>\n",
              "      <td>358500.0</td>\n",
              "      <td>NEAR BAY</td>\n",
              "    </tr>\n",
              "    <tr>\n",
              "      <th>2</th>\n",
              "      <td>-122.24</td>\n",
              "      <td>37.85</td>\n",
              "      <td>52.0</td>\n",
              "      <td>1467.0</td>\n",
              "      <td>190.0</td>\n",
              "      <td>496.0</td>\n",
              "      <td>177.0</td>\n",
              "      <td>7.2574</td>\n",
              "      <td>352100.0</td>\n",
              "      <td>NEAR BAY</td>\n",
              "    </tr>\n",
              "    <tr>\n",
              "      <th>3</th>\n",
              "      <td>-122.25</td>\n",
              "      <td>37.85</td>\n",
              "      <td>52.0</td>\n",
              "      <td>1274.0</td>\n",
              "      <td>235.0</td>\n",
              "      <td>558.0</td>\n",
              "      <td>219.0</td>\n",
              "      <td>5.6431</td>\n",
              "      <td>341300.0</td>\n",
              "      <td>NEAR BAY</td>\n",
              "    </tr>\n",
              "    <tr>\n",
              "      <th>4</th>\n",
              "      <td>-122.25</td>\n",
              "      <td>37.85</td>\n",
              "      <td>52.0</td>\n",
              "      <td>1627.0</td>\n",
              "      <td>280.0</td>\n",
              "      <td>565.0</td>\n",
              "      <td>259.0</td>\n",
              "      <td>3.8462</td>\n",
              "      <td>342200.0</td>\n",
              "      <td>NEAR BAY</td>\n",
              "    </tr>\n",
              "  </tbody>\n",
              "</table>\n",
              "</div>\n",
              "      <button class=\"colab-df-convert\" onclick=\"convertToInteractive('df-c77e6808-0e52-40a7-ad9c-ef12e869b4d7')\"\n",
              "              title=\"Convert this dataframe to an interactive table.\"\n",
              "              style=\"display:none;\">\n",
              "        \n",
              "  <svg xmlns=\"http://www.w3.org/2000/svg\" height=\"24px\"viewBox=\"0 0 24 24\"\n",
              "       width=\"24px\">\n",
              "    <path d=\"M0 0h24v24H0V0z\" fill=\"none\"/>\n",
              "    <path d=\"M18.56 5.44l.94 2.06.94-2.06 2.06-.94-2.06-.94-.94-2.06-.94 2.06-2.06.94zm-11 1L8.5 8.5l.94-2.06 2.06-.94-2.06-.94L8.5 2.5l-.94 2.06-2.06.94zm10 10l.94 2.06.94-2.06 2.06-.94-2.06-.94-.94-2.06-.94 2.06-2.06.94z\"/><path d=\"M17.41 7.96l-1.37-1.37c-.4-.4-.92-.59-1.43-.59-.52 0-1.04.2-1.43.59L10.3 9.45l-7.72 7.72c-.78.78-.78 2.05 0 2.83L4 21.41c.39.39.9.59 1.41.59.51 0 1.02-.2 1.41-.59l7.78-7.78 2.81-2.81c.8-.78.8-2.07 0-2.86zM5.41 20L4 18.59l7.72-7.72 1.47 1.35L5.41 20z\"/>\n",
              "  </svg>\n",
              "      </button>\n",
              "      \n",
              "  <style>\n",
              "    .colab-df-container {\n",
              "      display:flex;\n",
              "      flex-wrap:wrap;\n",
              "      gap: 12px;\n",
              "    }\n",
              "\n",
              "    .colab-df-convert {\n",
              "      background-color: #E8F0FE;\n",
              "      border: none;\n",
              "      border-radius: 50%;\n",
              "      cursor: pointer;\n",
              "      display: none;\n",
              "      fill: #1967D2;\n",
              "      height: 32px;\n",
              "      padding: 0 0 0 0;\n",
              "      width: 32px;\n",
              "    }\n",
              "\n",
              "    .colab-df-convert:hover {\n",
              "      background-color: #E2EBFA;\n",
              "      box-shadow: 0px 1px 2px rgba(60, 64, 67, 0.3), 0px 1px 3px 1px rgba(60, 64, 67, 0.15);\n",
              "      fill: #174EA6;\n",
              "    }\n",
              "\n",
              "    [theme=dark] .colab-df-convert {\n",
              "      background-color: #3B4455;\n",
              "      fill: #D2E3FC;\n",
              "    }\n",
              "\n",
              "    [theme=dark] .colab-df-convert:hover {\n",
              "      background-color: #434B5C;\n",
              "      box-shadow: 0px 1px 3px 1px rgba(0, 0, 0, 0.15);\n",
              "      filter: drop-shadow(0px 1px 2px rgba(0, 0, 0, 0.3));\n",
              "      fill: #FFFFFF;\n",
              "    }\n",
              "  </style>\n",
              "\n",
              "      <script>\n",
              "        const buttonEl =\n",
              "          document.querySelector('#df-c77e6808-0e52-40a7-ad9c-ef12e869b4d7 button.colab-df-convert');\n",
              "        buttonEl.style.display =\n",
              "          google.colab.kernel.accessAllowed ? 'block' : 'none';\n",
              "\n",
              "        async function convertToInteractive(key) {\n",
              "          const element = document.querySelector('#df-c77e6808-0e52-40a7-ad9c-ef12e869b4d7');\n",
              "          const dataTable =\n",
              "            await google.colab.kernel.invokeFunction('convertToInteractive',\n",
              "                                                     [key], {});\n",
              "          if (!dataTable) return;\n",
              "\n",
              "          const docLinkHtml = 'Like what you see? Visit the ' +\n",
              "            '<a target=\"_blank\" href=https://colab.research.google.com/notebooks/data_table.ipynb>data table notebook</a>'\n",
              "            + ' to learn more about interactive tables.';\n",
              "          element.innerHTML = '';\n",
              "          dataTable['output_type'] = 'display_data';\n",
              "          await google.colab.output.renderOutput(dataTable, element);\n",
              "          const docLink = document.createElement('div');\n",
              "          docLink.innerHTML = docLinkHtml;\n",
              "          element.appendChild(docLink);\n",
              "        }\n",
              "      </script>\n",
              "    </div>\n",
              "  </div>\n",
              "  "
            ]
          },
          "metadata": {},
          "execution_count": 2
        }
      ]
    },
    {
      "cell_type": "code",
      "source": [
        "import numpy as np\n",
        "from sklearn.compose import make_column_transformer\n",
        "from sklearn.preprocessing import MinMaxScaler, OneHotEncoder\n",
        "from sklearn.model_selection import train_test_split\n",
        "\n",
        "# create a column transformer\n",
        "ct = make_column_transformer(\n",
        "    (MinMaxScaler(), [\"longitude\", \"latitude\", \"housing_median_age\", \"total_rooms\", \"total_bedrooms\", \"population\", \"households\", \"median_income\"]),\n",
        "    (OneHotEncoder(handle_unknown = \"ignore\"), [\"ocean_proximity\"])\n",
        ")\n",
        "\n",
        "# create X and y value\n",
        "X = data.drop(\"median_house_value\", axis = 1)\n",
        "y = data[\"median_house_value\"]\n",
        "\n",
        "# train and test split\n",
        "X_train, X_test, y_train, y_test = train_test_split(X, y, test_size = 0.2, random_state = 42)\n",
        "\n",
        "# fit the column tranformer to the training data\n",
        "ct.fit(X_train)\n",
        "\n",
        "# transform training and test data\n",
        "X_train_normal = ct.transform(X_train)\n",
        "X_test_normal = ct.transform(X_test)\n",
        "\n",
        "\n",
        "# total index yang terindikasi NaN\n",
        "nan_index = len(np.argwhere(np.isnan(X_test_normal)))\n",
        "\n",
        "# remove index which contains NaN\n",
        "X_test_normal = X_test_normal[~np.ma.fix_invalid(X_test_normal).mask.any(axis=1)]\n",
        "y_test = y_test[nan_index:]"
      ],
      "metadata": {
        "id": "F0BTbAeXZilF"
      },
      "execution_count": 3,
      "outputs": []
    },
    {
      "cell_type": "code",
      "source": [
        "X_train_normal[0]"
      ],
      "metadata": {
        "colab": {
          "base_uri": "https://localhost:8080/"
        },
        "id": "6QoR5ltwcKOf",
        "outputId": "9d1e3759-08cf-40d2-84c6-65dc749b885d"
      },
      "execution_count": 4,
      "outputs": [
        {
          "output_type": "execute_result",
          "data": {
            "text/plain": [
              "array([0.72908367, 0.01702128, 0.62745098, 0.0794547 , 0.09714463,\n",
              "       0.06437961, 0.10228581, 0.19032151, 0.        , 0.        ,\n",
              "       0.        , 0.        , 1.        ])"
            ]
          },
          "metadata": {},
          "execution_count": 4
        }
      ]
    },
    {
      "cell_type": "code",
      "source": [
        "X_test_normal[2]"
      ],
      "metadata": {
        "colab": {
          "base_uri": "https://localhost:8080/"
        },
        "id": "mO-JfwY8iHGZ",
        "outputId": "dd29c401-e973-4602-b0c1-aa5b50ea90fa"
      },
      "execution_count": 5,
      "outputs": [
        {
          "output_type": "execute_result",
          "data": {
            "text/plain": [
              "array([0.23705179, 0.47021277, 0.2745098 , 0.07240958, 0.10350714,\n",
              "       0.04324673, 0.0955435 , 0.15577716, 0.        , 0.        ,\n",
              "       0.        , 0.        , 1.        ])"
            ]
          },
          "metadata": {},
          "execution_count": 5
        }
      ]
    },
    {
      "cell_type": "markdown",
      "source": [
        "## Build a neural network"
      ],
      "metadata": {
        "id": "Ip0d6V_ncJW5"
      }
    },
    {
      "cell_type": "code",
      "source": [
        "# create the model\n",
        "model = tf.keras.Sequential([\n",
        "    tf.keras.layers.Dense(18, activation='relu'),\n",
        "    tf.keras.layers.Dense(12, activation='relu'),\n",
        "    tf.keras.layers.Dense(1)\n",
        "])\n",
        "\n",
        "# compile the model\n",
        "model.compile(loss = tf.keras.losses.mae,\n",
        "              optimizer = tf.keras.optimizers.Adam(learning_rate = 0.01),\n",
        "              metrics = [\"mae\"])\n",
        "\n",
        "# fit the model\n",
        "model.fit(X_train_normal, y_train, epochs = 100)"
      ],
      "metadata": {
        "colab": {
          "base_uri": "https://localhost:8080/"
        },
        "id": "qcpVxgD7cRyR",
        "outputId": "348167b8-85d6-45b0-eaa5-5af54f950fba"
      },
      "execution_count": 7,
      "outputs": [
        {
          "output_type": "stream",
          "name": "stdout",
          "text": [
            "Epoch 1/100\n",
            "516/516 [==============================] - 1s 2ms/step - loss: 153771.9375 - mae: 153771.9375\n",
            "Epoch 2/100\n",
            "516/516 [==============================] - 1s 2ms/step - loss: 75265.9688 - mae: 75265.9688\n",
            "Epoch 3/100\n",
            "516/516 [==============================] - 1s 2ms/step - loss: 69132.7422 - mae: 69132.7422\n",
            "Epoch 4/100\n",
            "516/516 [==============================] - 1s 2ms/step - loss: 65559.5234 - mae: 65559.5234\n",
            "Epoch 5/100\n",
            "516/516 [==============================] - 1s 2ms/step - loss: 62306.3633 - mae: 62306.3633\n",
            "Epoch 6/100\n",
            "516/516 [==============================] - 1s 2ms/step - loss: 59095.4883 - mae: 59095.4883\n",
            "Epoch 7/100\n",
            "516/516 [==============================] - 1s 2ms/step - loss: 56065.3438 - mae: 56065.3438\n",
            "Epoch 8/100\n",
            "516/516 [==============================] - 1s 2ms/step - loss: 53767.6367 - mae: 53767.6367\n",
            "Epoch 9/100\n",
            "516/516 [==============================] - 1s 2ms/step - loss: 52362.1523 - mae: 52362.1523\n",
            "Epoch 10/100\n",
            "516/516 [==============================] - 1s 2ms/step - loss: 51558.4375 - mae: 51558.4375\n",
            "Epoch 11/100\n",
            "516/516 [==============================] - 1s 2ms/step - loss: 51077.9375 - mae: 51077.9375\n",
            "Epoch 12/100\n",
            "516/516 [==============================] - 1s 2ms/step - loss: 50818.8203 - mae: 50818.8203\n",
            "Epoch 13/100\n",
            "516/516 [==============================] - 1s 2ms/step - loss: 50606.1836 - mae: 50606.1836\n",
            "Epoch 14/100\n",
            "516/516 [==============================] - 1s 2ms/step - loss: 50489.5078 - mae: 50489.5078\n",
            "Epoch 15/100\n",
            "516/516 [==============================] - 1s 2ms/step - loss: 50353.0234 - mae: 50353.0234\n",
            "Epoch 16/100\n",
            "516/516 [==============================] - 1s 2ms/step - loss: 50231.4844 - mae: 50231.4844\n",
            "Epoch 17/100\n",
            "516/516 [==============================] - 1s 2ms/step - loss: 50092.6875 - mae: 50092.6875\n",
            "Epoch 18/100\n",
            "516/516 [==============================] - 1s 2ms/step - loss: 49970.8672 - mae: 49970.8672\n",
            "Epoch 19/100\n",
            "516/516 [==============================] - 1s 2ms/step - loss: 49784.3945 - mae: 49784.3945\n",
            "Epoch 20/100\n",
            "516/516 [==============================] - 1s 2ms/step - loss: 49624.6094 - mae: 49624.6094\n",
            "Epoch 21/100\n",
            "516/516 [==============================] - 1s 2ms/step - loss: 49483.7500 - mae: 49483.7500\n",
            "Epoch 22/100\n",
            "516/516 [==============================] - 1s 2ms/step - loss: 49323.3398 - mae: 49323.3398\n",
            "Epoch 23/100\n",
            "516/516 [==============================] - 1s 2ms/step - loss: 49176.8359 - mae: 49176.8359\n",
            "Epoch 24/100\n",
            "516/516 [==============================] - 1s 2ms/step - loss: 49015.4297 - mae: 49015.4297\n",
            "Epoch 25/100\n",
            "516/516 [==============================] - 1s 2ms/step - loss: 48891.4883 - mae: 48891.4883\n",
            "Epoch 26/100\n",
            "516/516 [==============================] - 1s 2ms/step - loss: 48761.2930 - mae: 48761.2930\n",
            "Epoch 27/100\n",
            "516/516 [==============================] - 1s 2ms/step - loss: 48662.8203 - mae: 48662.8203\n",
            "Epoch 28/100\n",
            "516/516 [==============================] - 1s 2ms/step - loss: 48545.8398 - mae: 48545.8398\n",
            "Epoch 29/100\n",
            "516/516 [==============================] - 1s 2ms/step - loss: 48455.6680 - mae: 48455.6680\n",
            "Epoch 30/100\n",
            "516/516 [==============================] - 1s 2ms/step - loss: 48322.2656 - mae: 48322.2656\n",
            "Epoch 31/100\n",
            "516/516 [==============================] - 1s 2ms/step - loss: 48227.8711 - mae: 48227.8711\n",
            "Epoch 32/100\n",
            "516/516 [==============================] - 1s 2ms/step - loss: 48135.0938 - mae: 48135.0938\n",
            "Epoch 33/100\n",
            "516/516 [==============================] - 1s 2ms/step - loss: 48026.0312 - mae: 48026.0312\n",
            "Epoch 34/100\n",
            "516/516 [==============================] - 1s 2ms/step - loss: 47920.7617 - mae: 47920.7617\n",
            "Epoch 35/100\n",
            "516/516 [==============================] - 1s 2ms/step - loss: 47849.8203 - mae: 47849.8203\n",
            "Epoch 36/100\n",
            "516/516 [==============================] - 1s 2ms/step - loss: 47748.4844 - mae: 47748.4844\n",
            "Epoch 37/100\n",
            "516/516 [==============================] - 1s 2ms/step - loss: 47647.8906 - mae: 47647.8906\n",
            "Epoch 38/100\n",
            "516/516 [==============================] - 1s 2ms/step - loss: 47577.0547 - mae: 47577.0547\n",
            "Epoch 39/100\n",
            "516/516 [==============================] - 1s 2ms/step - loss: 47484.0508 - mae: 47484.0508\n",
            "Epoch 40/100\n",
            "516/516 [==============================] - 1s 2ms/step - loss: 47368.5156 - mae: 47368.5156\n",
            "Epoch 41/100\n",
            "516/516 [==============================] - 1s 2ms/step - loss: 47301.3047 - mae: 47301.3047\n",
            "Epoch 42/100\n",
            "516/516 [==============================] - 1s 2ms/step - loss: 47226.1719 - mae: 47226.1719\n",
            "Epoch 43/100\n",
            "516/516 [==============================] - 1s 2ms/step - loss: 47139.2031 - mae: 47139.2031\n",
            "Epoch 44/100\n",
            "516/516 [==============================] - 1s 2ms/step - loss: 47054.8789 - mae: 47054.8789\n",
            "Epoch 45/100\n",
            "516/516 [==============================] - 1s 2ms/step - loss: 46994.1211 - mae: 46994.1211\n",
            "Epoch 46/100\n",
            "516/516 [==============================] - 1s 2ms/step - loss: 46890.8828 - mae: 46890.8828\n",
            "Epoch 47/100\n",
            "516/516 [==============================] - 1s 2ms/step - loss: 46836.3594 - mae: 46836.3594\n",
            "Epoch 48/100\n",
            "516/516 [==============================] - 1s 2ms/step - loss: 46773.7578 - mae: 46773.7578\n",
            "Epoch 49/100\n",
            "516/516 [==============================] - 1s 2ms/step - loss: 46696.6094 - mae: 46696.6094\n",
            "Epoch 50/100\n",
            "516/516 [==============================] - 1s 2ms/step - loss: 46630.8750 - mae: 46630.8750\n",
            "Epoch 51/100\n",
            "516/516 [==============================] - 1s 2ms/step - loss: 46592.1367 - mae: 46592.1367\n",
            "Epoch 52/100\n",
            "516/516 [==============================] - 1s 2ms/step - loss: 46497.6328 - mae: 46497.6328\n",
            "Epoch 53/100\n",
            "516/516 [==============================] - 1s 2ms/step - loss: 46452.9688 - mae: 46452.9688\n",
            "Epoch 54/100\n",
            "516/516 [==============================] - 1s 2ms/step - loss: 46425.9375 - mae: 46425.9375\n",
            "Epoch 55/100\n",
            "516/516 [==============================] - 1s 2ms/step - loss: 46381.2656 - mae: 46381.2656\n",
            "Epoch 56/100\n",
            "516/516 [==============================] - 1s 2ms/step - loss: 46343.5391 - mae: 46343.5391\n",
            "Epoch 57/100\n",
            "516/516 [==============================] - 1s 2ms/step - loss: 46262.7852 - mae: 46262.7852\n",
            "Epoch 58/100\n",
            "516/516 [==============================] - 1s 2ms/step - loss: 46220.5156 - mae: 46220.5156\n",
            "Epoch 59/100\n",
            "516/516 [==============================] - 1s 2ms/step - loss: 46165.7930 - mae: 46165.7930\n",
            "Epoch 60/100\n",
            "516/516 [==============================] - 1s 2ms/step - loss: 46125.3008 - mae: 46125.3008\n",
            "Epoch 61/100\n",
            "516/516 [==============================] - 1s 3ms/step - loss: 46104.7812 - mae: 46104.7812\n",
            "Epoch 62/100\n",
            "516/516 [==============================] - 1s 2ms/step - loss: 46051.5547 - mae: 46051.5547\n",
            "Epoch 63/100\n",
            "516/516 [==============================] - 1s 2ms/step - loss: 45998.9180 - mae: 45998.9180\n",
            "Epoch 64/100\n",
            "516/516 [==============================] - 1s 2ms/step - loss: 46002.1602 - mae: 46002.1602\n",
            "Epoch 65/100\n",
            "516/516 [==============================] - 1s 2ms/step - loss: 45925.8867 - mae: 45925.8867\n",
            "Epoch 66/100\n",
            "516/516 [==============================] - 1s 2ms/step - loss: 45893.7266 - mae: 45893.7266\n",
            "Epoch 67/100\n",
            "516/516 [==============================] - 1s 3ms/step - loss: 45878.9648 - mae: 45878.9648\n",
            "Epoch 68/100\n",
            "516/516 [==============================] - 1s 3ms/step - loss: 45811.3594 - mae: 45811.3594\n",
            "Epoch 69/100\n",
            "516/516 [==============================] - 1s 2ms/step - loss: 45811.1406 - mae: 45811.1406\n",
            "Epoch 70/100\n",
            "516/516 [==============================] - 1s 2ms/step - loss: 45768.6797 - mae: 45768.6797\n",
            "Epoch 71/100\n",
            "516/516 [==============================] - 1s 2ms/step - loss: 45742.7812 - mae: 45742.7812\n",
            "Epoch 72/100\n",
            "516/516 [==============================] - 1s 2ms/step - loss: 45717.2578 - mae: 45717.2578\n",
            "Epoch 73/100\n",
            "516/516 [==============================] - 1s 2ms/step - loss: 45706.5742 - mae: 45706.5742\n",
            "Epoch 74/100\n",
            "516/516 [==============================] - 1s 2ms/step - loss: 45667.2070 - mae: 45667.2070\n",
            "Epoch 75/100\n",
            "516/516 [==============================] - 1s 2ms/step - loss: 45640.5391 - mae: 45640.5391\n",
            "Epoch 76/100\n",
            "516/516 [==============================] - 1s 2ms/step - loss: 45594.0781 - mae: 45594.0781\n",
            "Epoch 77/100\n",
            "516/516 [==============================] - 1s 2ms/step - loss: 45579.9570 - mae: 45579.9570\n",
            "Epoch 78/100\n",
            "516/516 [==============================] - 1s 2ms/step - loss: 45595.7539 - mae: 45595.7539\n",
            "Epoch 79/100\n",
            "516/516 [==============================] - 1s 2ms/step - loss: 45527.9648 - mae: 45527.9648\n",
            "Epoch 80/100\n",
            "516/516 [==============================] - 1s 2ms/step - loss: 45494.0039 - mae: 45494.0039\n",
            "Epoch 81/100\n",
            "516/516 [==============================] - 1s 2ms/step - loss: 45475.2305 - mae: 45475.2305\n",
            "Epoch 82/100\n",
            "516/516 [==============================] - 1s 2ms/step - loss: 45470.8281 - mae: 45470.8281\n",
            "Epoch 83/100\n",
            "516/516 [==============================] - 1s 2ms/step - loss: 45442.9727 - mae: 45442.9727\n",
            "Epoch 84/100\n",
            "516/516 [==============================] - 1s 2ms/step - loss: 45432.7891 - mae: 45432.7891\n",
            "Epoch 85/100\n",
            "516/516 [==============================] - 1s 2ms/step - loss: 45422.2422 - mae: 45422.2422\n",
            "Epoch 86/100\n",
            "516/516 [==============================] - 1s 2ms/step - loss: 45398.9688 - mae: 45398.9688\n",
            "Epoch 87/100\n",
            "516/516 [==============================] - 1s 2ms/step - loss: 45389.9844 - mae: 45389.9844\n",
            "Epoch 88/100\n",
            "516/516 [==============================] - 1s 2ms/step - loss: 45361.7070 - mae: 45361.7070\n",
            "Epoch 89/100\n",
            "516/516 [==============================] - 1s 2ms/step - loss: 45337.1055 - mae: 45337.1055\n",
            "Epoch 90/100\n",
            "516/516 [==============================] - 1s 2ms/step - loss: 45302.7539 - mae: 45302.7539\n",
            "Epoch 91/100\n",
            "516/516 [==============================] - 1s 2ms/step - loss: 45313.2969 - mae: 45313.2969\n",
            "Epoch 92/100\n",
            "516/516 [==============================] - 1s 2ms/step - loss: 45267.9922 - mae: 45267.9922\n",
            "Epoch 93/100\n",
            "516/516 [==============================] - 1s 2ms/step - loss: 45260.1797 - mae: 45260.1797\n",
            "Epoch 94/100\n",
            "516/516 [==============================] - 1s 2ms/step - loss: 45231.9258 - mae: 45231.9258\n",
            "Epoch 95/100\n",
            "516/516 [==============================] - 1s 2ms/step - loss: 45218.4570 - mae: 45218.4570\n",
            "Epoch 96/100\n",
            "516/516 [==============================] - 1s 2ms/step - loss: 45194.7344 - mae: 45194.7344\n",
            "Epoch 97/100\n",
            "516/516 [==============================] - 1s 2ms/step - loss: 45186.9844 - mae: 45186.9844\n",
            "Epoch 98/100\n",
            "516/516 [==============================] - 1s 2ms/step - loss: 45160.0703 - mae: 45160.0703\n",
            "Epoch 99/100\n",
            "516/516 [==============================] - 1s 2ms/step - loss: 45147.5156 - mae: 45147.5156\n",
            "Epoch 100/100\n",
            "516/516 [==============================] - 1s 2ms/step - loss: 45129.7617 - mae: 45129.7617\n"
          ]
        },
        {
          "output_type": "execute_result",
          "data": {
            "text/plain": [
              "<keras.callbacks.History at 0x7f2be2a17ac0>"
            ]
          },
          "metadata": {},
          "execution_count": 7
        }
      ]
    },
    {
      "cell_type": "code",
      "source": [
        "# evaluate the model\n",
        "model.evaluate(X_test_normal, y_test)"
      ],
      "metadata": {
        "colab": {
          "base_uri": "https://localhost:8080/"
        },
        "id": "Hex8bM3cd2J1",
        "outputId": "ffc06808-b208-4fdd-e77b-24861c035e93"
      },
      "execution_count": 8,
      "outputs": [
        {
          "output_type": "stream",
          "name": "stdout",
          "text": [
            "123/123 [==============================] - 0s 1ms/step - loss: 46093.5469 - mae: 46093.5469\n"
          ]
        },
        {
          "output_type": "execute_result",
          "data": {
            "text/plain": [
              "[46093.546875, 46093.546875]"
            ]
          },
          "metadata": {},
          "execution_count": 8
        }
      ]
    },
    {
      "cell_type": "code",
      "source": [
        "# make some predictions\n",
        "y_pred = model.predict(X_test_normal)"
      ],
      "metadata": {
        "colab": {
          "base_uri": "https://localhost:8080/"
        },
        "id": "aWJUy7cHnq3j",
        "outputId": "698f44df-b94e-416b-92e7-aa713c3be790"
      },
      "execution_count": 10,
      "outputs": [
        {
          "output_type": "stream",
          "name": "stdout",
          "text": [
            "123/123 [==============================] - 1s 3ms/step\n"
          ]
        }
      ]
    },
    {
      "cell_type": "markdown",
      "source": [
        "## Plotting"
      ],
      "metadata": {
        "id": "4Wve7TF_lfuU"
      }
    },
    {
      "cell_type": "code",
      "source": [
        "def plot_predictions(train_data = X_train_normal[:,0], \n",
        "                     train_labels = y_train,\n",
        "                     test_data = X_test_normal[:,0],\n",
        "                     test_labels = y_test, \n",
        "                     predictions = y_pred):\n",
        "  \"\"\"\n",
        "  Plots training data,test data, and compares to predictions to ground truth labels\n",
        "  \"\"\"\n",
        "  plt.figure(figsize = (10, 7))\n",
        "\n",
        "  # plot test data in green\n",
        "  plt.scatter(test_data, test_labels, c = \"g\", label = \"Test Data\")\n",
        "\n",
        "  # plot predictions in red\n",
        "  plt.scatter(test_data, predictions, c = \"r\", label = \"Predictions\")\n",
        "\n",
        "  # show a legend\n",
        "  plt.legend()"
      ],
      "metadata": {
        "id": "iburqnxNljZB"
      },
      "execution_count": 24,
      "outputs": []
    },
    {
      "cell_type": "code",
      "source": [
        "plot_predictions(predictions = y_pred)"
      ],
      "metadata": {
        "colab": {
          "base_uri": "https://localhost:8080/",
          "height": 428
        },
        "id": "jwNp2hDLnzgB",
        "outputId": "bde5e7fa-3f08-432d-ded3-250eee6bc84b"
      },
      "execution_count": 25,
      "outputs": [
        {
          "output_type": "display_data",
          "data": {
            "text/plain": [
              "<Figure size 720x504 with 1 Axes>"
            ],
            "image/png": "[encoded data removed]"
          },
          "metadata": {
            "needs_background": "light"
          }
        }
      ]
    }
  ]
}